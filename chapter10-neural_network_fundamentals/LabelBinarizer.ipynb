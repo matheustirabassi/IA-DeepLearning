{
 "cells": [
  {
   "cell_type": "code",
   "execution_count": 1,
   "id": "5e3f9010",
   "metadata": {},
   "outputs": [],
   "source": [
    "from numpy import array\n",
    "from sklearn.preprocessing import LabelEncoder\n",
    "from sklearn.preprocessing import OneHotEncoder\n",
    "from sklearn.preprocessing import LabelBinarizer"
   ]
  },
  {
   "cell_type": "code",
   "execution_count": 2,
   "id": "58aab219",
   "metadata": {},
   "outputs": [],
   "source": [
    "data = ['Dog', 'Dog', 'Panda', 'Cat', 'Panda']\n",
    "values = array(data)\n"
   ]
  },
  {
   "cell_type": "code",
   "execution_count": 3,
   "id": "bd60ebf3",
   "metadata": {},
   "outputs": [
    {
     "data": {
      "text/plain": [
       "array(['Dog', 'Dog', 'Panda', 'Cat', 'Panda'], dtype='<U5')"
      ]
     },
     "execution_count": 3,
     "metadata": {},
     "output_type": "execute_result"
    }
   ],
   "source": [
    "values"
   ]
  },
  {
   "cell_type": "code",
   "execution_count": 13,
   "id": "323a538d",
   "metadata": {},
   "outputs": [
    {
     "name": "stdout",
     "output_type": "stream",
     "text": [
      "Codificados em inteiros [1 1 2 0 2]\n",
      "As classes mantidas ['Cat' 'Dog' 'Panda']\n"
     ]
    }
   ],
   "source": [
    "label_encoder = LabelEncoder()\n",
    "integer_encoded = label_encoder.fit_transform(values)\n",
    "print(\"Codificados em inteiros\", integer_encoded)\n",
    "print(\"As classes mantidas\", label_encoder.classes_)"
   ]
  },
  {
   "cell_type": "code",
   "execution_count": 25,
   "id": "91b74ea3",
   "metadata": {},
   "outputs": [
    {
     "name": "stdout",
     "output_type": "stream",
     "text": [
      "Codificados em inteiros [1 1 2 0 2]\n",
      "Redimensionado para duas dimensões 5 linnhas x 1 coluna \n",
      " [[1]\n",
      " [1]\n",
      " [2]\n",
      " [0]\n",
      " [2]]\n",
      "Rótulos com hot encoder\n",
      " [[0. 1. 0.]\n",
      " [0. 1. 0.]\n",
      " [0. 0. 1.]\n",
      " [1. 0. 0.]\n",
      " [0. 0. 1.]]\n",
      "[array([0, 1, 2], dtype=int64)]\n"
     ]
    }
   ],
   "source": [
    "onehot_encoder = OneHotEncoder(sparse = False)\n",
    "ie = onehot_encoder.fit_transform(integer_encoded.reshape(len(integer_encoded), 1))\n",
    "print(\"Codificados em inteiros\", integer_encoded)\n",
    "print(\"Redimensionado para duas dimensões 5 linnhas x 1 coluna \\n\", integer_encoded.reshape(len(integer_encoded), 1))\n",
    "print('Rótulos com hot encoder\\n', ie)\n",
    "print(onehot_encoder.categories_)"
   ]
  },
  {
   "cell_type": "code",
   "execution_count": 20,
   "id": "df6adc23",
   "metadata": {},
   "outputs": [
    {
     "name": "stdout",
     "output_type": "stream",
     "text": [
      "[[0 1 0]\n",
      " [0 1 0]\n",
      " [0 0 1]\n",
      " [1 0 0]\n",
      " [0 0 1]]\n",
      "Classes ['Cat' 'Dog' 'Panda']\n"
     ]
    }
   ],
   "source": [
    "lb = LabelBinarizer()\n",
    "lb_ie = lb.fit_transform(values)\n",
    "print(lb_ie)\n",
    "print('Classes', lb.classes_)"
   ]
  },
  {
   "cell_type": "code",
   "execution_count": 28,
   "id": "88efc104",
   "metadata": {},
   "outputs": [
    {
     "name": "stdout",
     "output_type": "stream",
     "text": [
      "['Dog' 'Dog' 'Panda' 'Cat' 'Panda']\n"
     ]
    },
    {
     "data": {
      "text/plain": [
       "array([[0., 1., 0.],\n",
       "       [0., 1., 0.],\n",
       "       [0., 0., 1.],\n",
       "       [1., 0., 0.],\n",
       "       [0., 0., 1.]])"
      ]
     },
     "execution_count": 28,
     "metadata": {},
     "output_type": "execute_result"
    }
   ],
   "source": [
    "print(values)\n",
    "onehot_encoder.fit_transform(values.reshape(len(integer_encoded), 1))"
   ]
  },
  {
   "cell_type": "code",
   "execution_count": 27,
   "id": "7f7b7e58",
   "metadata": {},
   "outputs": [
    {
     "name": "stdout",
     "output_type": "stream",
     "text": [
      "[array(['Cat', 'Dog', 'Panda'], dtype='<U5')]\n"
     ]
    }
   ],
   "source": [
    "print(onehot_encoder.categories_)"
   ]
  },
  {
   "cell_type": "code",
   "execution_count": null,
   "id": "31e8da2a",
   "metadata": {},
   "outputs": [],
   "source": []
  }
 ],
 "metadata": {
  "kernelspec": {
   "display_name": "cv",
   "language": "python",
   "name": "cv"
  },
  "language_info": {
   "codemirror_mode": {
    "name": "ipython",
    "version": 3
   },
   "file_extension": ".py",
   "mimetype": "text/x-python",
   "name": "python",
   "nbconvert_exporter": "python",
   "pygments_lexer": "ipython3",
   "version": "3.7.9"
  }
 },
 "nbformat": 4,
 "nbformat_minor": 5
}
