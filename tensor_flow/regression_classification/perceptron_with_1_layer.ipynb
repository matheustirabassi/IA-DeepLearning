{
 "cells": [
  {
   "cell_type": "code",
   "execution_count": 1,
   "metadata": {},
   "outputs": [
    {
     "data": {
      "text/plain": [
       "'2.6.0'"
      ]
     },
     "execution_count": 1,
     "metadata": {},
     "output_type": "execute_result"
    }
   ],
   "source": [
    "import tensorflow as tf\n",
    "import numpy as np\n",
    "tf.__version__"
   ]
  },
  {
   "cell_type": "code",
   "execution_count": 2,
   "metadata": {},
   "outputs": [],
   "source": [
    "x = np.array([\n",
    "    [0.0, 0.0],\n",
    "    [0.0, 1.0],\n",
    "    [1.0, 0.0],\n",
    "    [1.0, 1.0]\n",
    "])\n"
   ]
  },
  {
   "cell_type": "code",
   "execution_count": 3,
   "metadata": {},
   "outputs": [],
   "source": [
    "y = np.array([\n",
    "  [0.0], \n",
    "  [0.0],\n",
    "  [0.0],\n",
    "  [1.0]\n",
    "  ])"
   ]
  },
  {
   "cell_type": "code",
   "execution_count": 4,
   "metadata": {},
   "outputs": [
    {
     "name": "stdout",
     "output_type": "stream",
     "text": [
      "<tf.Variable 'Variable:0' shape=(2, 1) dtype=float64, numpy=\n",
      "array([[0.],\n",
      "       [0.]])>\n"
     ]
    }
   ],
   "source": [
    "weights = tf.Variable(tf.zeros([2, 1], dtype=tf.float64))\n",
    "print(weights)\n"
   ]
  },
  {
   "cell_type": "code",
   "execution_count": 5,
   "metadata": {},
   "outputs": [],
   "source": [
    "def step(x):\n",
    "    return tf.cast(tf.math.greater_equal(x, 1), tf.float64)"
   ]
  },
  {
   "cell_type": "code",
   "execution_count": 6,
   "metadata": {},
   "outputs": [
    {
     "name": "stdout",
     "output_type": "stream",
     "text": [
      "Época: 1  Erro:  1.0\n",
      "Época: 2  Erro:  1.0\n",
      "Época: 3  Erro:  1.0\n",
      "Época: 4  Erro:  1.0\n",
      "Época: 5  Erro:  1.0\n",
      "Época: 6  Erro:  0.0\n"
     ]
    }
   ],
   "source": [
    "epoch = 0\n",
    "for i in range(15):\n",
    "    epoch += 1\n",
    "    \n",
    "    # Forward pass\n",
    "    camada_saida = tf.matmul(x, weights)\n",
    "    camada_saida_ativacao = step(camada_saida)\n",
    "    \n",
    "    # Backpropagation\n",
    "    error = tf.subtract(y, camada_saida_ativacao)\n",
    "    delta = tf.matmul(x, error, transpose_a = True)\n",
    "    weights.assign_add(tf.multiply(delta, 0.1))\n",
    "    \n",
    "    # Resumo da época\n",
    "    sum_error = tf.reduce_sum(error).numpy()\n",
    "    print('Época:', epoch, ' Erro: ', sum_error)\n",
    "    if sum_error == 0.0:\n",
    "        break"
   ]
  },
  {
   "cell_type": "code",
   "execution_count": 7,
   "metadata": {},
   "outputs": [
    {
     "data": {
      "text/plain": [
       "array([[0.],\n",
       "       [0.],\n",
       "       [0.],\n",
       "       [1.]])"
      ]
     },
     "execution_count": 7,
     "metadata": {},
     "output_type": "execute_result"
    }
   ],
   "source": [
    "# teste\n",
    "camada_saida_teste = tf.matmul(x, weights)\n",
    "camada_saida_ativacao_teste = step(camada_saida_teste)\n",
    "camada_saida_ativacao_teste.numpy()"
   ]
  }
 ],
 "metadata": {
  "interpreter": {
   "hash": "272e0801c12c561fe96c2f4b22d81b8a2f064ccfcda985a58c0c99c33723c25f"
  },
  "kernelspec": {
   "display_name": "Python 3.9.12 ('abc')",
   "language": "python",
   "name": "python3"
  },
  "language_info": {
   "codemirror_mode": {
    "name": "ipython",
    "version": 3
   },
   "file_extension": ".py",
   "mimetype": "text/x-python",
   "name": "python",
   "nbconvert_exporter": "python",
   "pygments_lexer": "ipython3",
   "version": "3.9.12"
  },
  "orig_nbformat": 4
 },
 "nbformat": 4,
 "nbformat_minor": 2
}
