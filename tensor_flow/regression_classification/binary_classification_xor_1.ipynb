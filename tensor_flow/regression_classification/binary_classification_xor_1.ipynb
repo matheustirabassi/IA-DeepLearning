{
 "cells": [
  {
   "cell_type": "code",
   "execution_count": 1,
   "metadata": {},
   "outputs": [],
   "source": [
    "import tensorflow as tf\n",
    "import numpy as np"
   ]
  },
  {
   "cell_type": "code",
   "execution_count": 2,
   "metadata": {},
   "outputs": [
    {
     "data": {
      "text/plain": [
       "array([[0, 0],\n",
       "       [0, 1],\n",
       "       [1, 0],\n",
       "       [1, 1]])"
      ]
     },
     "execution_count": 2,
     "metadata": {},
     "output_type": "execute_result"
    }
   ],
   "source": [
    "x = np.array([[0, 0], [0, 1], [1, 0], [1, 1]])\n",
    "x"
   ]
  },
  {
   "cell_type": "code",
   "execution_count": 3,
   "metadata": {},
   "outputs": [
    {
     "data": {
      "text/plain": [
       "array([[1],\n",
       "       [0],\n",
       "       [0],\n",
       "       [1]])"
      ]
     },
     "execution_count": 3,
     "metadata": {},
     "output_type": "execute_result"
    }
   ],
   "source": [
    "y = np.array([[1], [0], [0], [1]])\n",
    "y"
   ]
  },
  {
   "cell_type": "code",
   "execution_count": 4,
   "metadata": {},
   "outputs": [],
   "source": [
    "input_neurons = 2\n",
    "hidden_neurons = 3\n",
    "output_neurons = 1"
   ]
  },
  {
   "cell_type": "code",
   "execution_count": 5,
   "metadata": {},
   "outputs": [],
   "source": [
    "weights = {\n",
    "  'hidden': tf.Variable(tf.random.normal([input_neurons, hidden_neurons]), name = 'hidden_weights'),\n",
    "  'output': tf.Variable(tf.random.normal([hidden_neurons, output_neurons]), name = 'output_weights')\n",
    "}"
   ]
  },
  {
   "cell_type": "code",
   "execution_count": 6,
   "metadata": {},
   "outputs": [
    {
     "data": {
      "text/plain": [
       "dict"
      ]
     },
     "execution_count": 6,
     "metadata": {},
     "output_type": "execute_result"
    }
   ],
   "source": [
    "type(weights)"
   ]
  },
  {
   "cell_type": "code",
   "execution_count": 7,
   "metadata": {},
   "outputs": [
    {
     "data": {
      "text/plain": [
       "tensorflow.python.ops.resource_variable_ops.ResourceVariable"
      ]
     },
     "execution_count": 7,
     "metadata": {},
     "output_type": "execute_result"
    }
   ],
   "source": [
    "type(weights['hidden'])"
   ]
  },
  {
   "cell_type": "code",
   "execution_count": 8,
   "metadata": {},
   "outputs": [
    {
     "data": {
      "text/plain": [
       "<tf.Variable 'hidden_weights:0' shape=(2, 3) dtype=float32, numpy=\n",
       "array([[-1.8612146 , -0.4785932 , -0.07308102],\n",
       "       [-0.02762108,  1.223219  ,  1.5165881 ]], dtype=float32)>"
      ]
     },
     "execution_count": 8,
     "metadata": {},
     "output_type": "execute_result"
    }
   ],
   "source": [
    "weights['hidden']"
   ]
  },
  {
   "cell_type": "code",
   "execution_count": 9,
   "metadata": {},
   "outputs": [
    {
     "data": {
      "text/plain": [
       "<tf.Variable 'output_weights:0' shape=(3, 1) dtype=float32, numpy=\n",
       "array([[-0.08858951],\n",
       "       [ 1.2227759 ],\n",
       "       [ 0.7091711 ]], dtype=float32)>"
      ]
     },
     "execution_count": 9,
     "metadata": {},
     "output_type": "execute_result"
    }
   ],
   "source": [
    "weights['output']"
   ]
  },
  {
   "cell_type": "code",
   "execution_count": 10,
   "metadata": {},
   "outputs": [
    {
     "data": {
      "text/plain": [
       "array([-4.04488966e-01,  7.14288507e-01,  1.48823627e+00,  2.03634152e+00,\n",
       "        1.22380307e+00,  6.17274274e-01, -5.68569078e-03,  1.47477084e+00,\n",
       "       -8.15896313e-02, -1.45815820e-01,  2.61186677e-01,  4.28274956e-01,\n",
       "       -8.08289101e-01, -1.35819354e+00, -6.04878841e-01, -2.06988467e+00,\n",
       "       -3.30872182e-01, -1.43682315e+00,  2.05689552e-01, -6.02790834e-01,\n",
       "       -8.17579359e-02,  3.96506236e-01, -1.22733262e+00,  9.15004072e-01,\n",
       "        1.30342241e+00,  2.22912850e+00,  9.20414257e-01,  1.77482959e+00,\n",
       "        1.37819214e+00,  3.73867992e-01,  5.22356494e-01, -5.69660666e-01,\n",
       "       -1.02899343e+00, -3.14163033e-01, -9.81708592e-02,  5.88655847e-01,\n",
       "       -1.33293323e+00,  1.01187142e-01,  1.37793390e+00,  5.88963761e-01,\n",
       "       -9.90853008e-01,  6.38122132e-01,  1.77714792e-01,  1.37856831e+00,\n",
       "       -1.09351190e+00,  4.70757297e-01, -3.45966715e-01,  1.46249610e-01,\n",
       "       -6.89683273e-02, -1.57677886e+00, -9.68611907e-01,  2.37036206e-01,\n",
       "       -9.72129638e-01,  1.48232201e+00,  8.01140365e-01,  1.18830721e+00,\n",
       "       -9.50842836e-01, -1.94939526e+00,  1.48004024e-01,  1.61549352e-01,\n",
       "       -2.94381798e-01, -1.37261812e+00,  1.45196585e+00, -1.84079133e+00,\n",
       "        1.06847107e+00,  7.15990123e-01, -4.35055223e-01,  4.32456207e-01,\n",
       "        4.82877059e-01,  1.10851261e+00,  1.57206313e+00, -2.11220153e-01,\n",
       "        7.38387591e-01, -1.51606373e+00,  7.33840055e-01,  5.48529548e-01,\n",
       "        1.88763205e+00,  2.34765739e-01,  1.15098822e+00, -3.32024814e-02,\n",
       "       -8.38032296e-01, -3.12645926e-01, -2.14018045e+00,  1.69987968e-01,\n",
       "        1.74746015e+00, -1.77337804e-01,  1.45074680e+00, -5.69574797e-03,\n",
       "       -1.37478429e-01,  6.32854085e-02,  2.14036465e+00, -3.14576324e-01,\n",
       "        1.16835098e+00, -2.40164553e-01,  1.75780464e-01,  7.62189100e-01,\n",
       "        1.40128837e+00,  1.47487574e+00, -1.44413071e+00, -1.67230670e+00,\n",
       "        5.72651246e-01, -7.06616653e-01, -9.46137116e-01,  2.80087626e-01,\n",
       "       -1.05348947e+00,  1.51825315e+00,  1.25082424e+00,  2.18007981e-01,\n",
       "       -3.87572269e-01,  6.74542482e-01, -5.86407281e-01,  8.62326379e-02,\n",
       "        4.15969687e-02,  7.02585918e-01,  8.47161478e-01,  9.23349747e-01,\n",
       "       -7.89696018e-01, -2.95246683e-02,  5.23833592e-02,  9.32205647e-01,\n",
       "        6.93420556e-01,  9.51882840e-02, -2.77499378e-01,  1.18055303e+00,\n",
       "        1.22891496e+00, -1.68771766e+00,  5.43893271e-01, -1.33012423e+00,\n",
       "        7.16518017e-01, -5.37813182e-01,  5.18309615e-01, -8.17849584e-01,\n",
       "        1.44160494e-01,  5.26994343e-01, -3.63095791e-01, -2.63384968e-01,\n",
       "       -1.66486825e+00, -1.43518244e+00,  3.40894077e-01,  5.45551962e-01,\n",
       "        5.69264700e-01,  1.59607114e+00,  1.02235864e+00,  1.39992647e+00,\n",
       "       -1.52881762e+00,  1.56769554e+00,  1.45635685e+00,  1.75859944e+00,\n",
       "       -8.33280129e-01, -5.21887356e-01, -2.11918160e+00,  1.89430815e+00,\n",
       "       -4.44584046e-01,  4.01212603e-01, -8.59542010e-01,  1.48959338e+00,\n",
       "        5.79708753e-01, -1.19008799e+00, -6.67620901e-01,  4.55117741e-01,\n",
       "       -5.50176867e-01, -7.54502241e-01,  2.18145355e+00, -6.26307299e-01,\n",
       "       -1.64901386e-01,  8.70102189e-01, -1.33393329e+00, -2.23125920e-01,\n",
       "        1.66445422e-01, -2.64515644e-01, -4.74212392e-01, -6.83776964e-01,\n",
       "        4.03658177e-01,  3.59427758e-01, -5.15430233e-01,  9.58676601e-01,\n",
       "       -4.51552787e-01, -8.07656509e-01, -7.21173277e-01, -6.13346340e-01,\n",
       "       -2.05238329e+00, -1.41335734e+00, -1.31861351e+00, -2.10310590e-01,\n",
       "        4.17547247e-01,  2.99401268e+00,  1.07396401e+00,  8.36545251e-01,\n",
       "        7.15396681e-01,  7.75948620e-01, -4.66857095e-01, -1.23685640e+00,\n",
       "       -9.02941473e-01,  1.77035240e-01, -4.43698270e-01,  7.26395429e-01,\n",
       "        1.46440968e+00, -1.80548888e+00,  3.67795946e-01,  3.28934842e-01,\n",
       "        1.47620407e+00,  6.71902122e-01, -3.56459228e-01, -2.31173051e+00,\n",
       "       -1.59113836e+00, -1.44891834e+00,  6.09499034e-02,  1.69968953e+00,\n",
       "        1.91463184e-01,  3.60140793e-01, -1.60958248e-01, -1.21468682e+00,\n",
       "        6.15074132e-01, -2.29564651e-02,  1.29288645e+00, -5.02379778e-01,\n",
       "        8.02649663e-01,  1.46852166e+00,  3.37762559e-01,  1.45902021e-01,\n",
       "       -3.05817745e-01,  2.26740637e-01,  6.21508687e-01,  1.12407618e+00,\n",
       "       -9.63030041e-01, -4.95345885e-01, -2.56399135e-01, -1.20390801e+00,\n",
       "        8.24005893e-01,  3.55942897e-01,  4.58477268e-01, -2.05746410e-01,\n",
       "       -1.39651834e-01,  6.00114883e-01, -2.22536495e+00,  1.07591731e+00,\n",
       "        8.41472564e-03, -2.34459420e+00,  3.53731231e-01, -1.72347272e-01,\n",
       "       -4.62085222e-01,  6.55220136e-01,  8.57845777e-01,  1.82156430e+00,\n",
       "       -1.19789904e+00, -3.09012081e-01, -2.60024018e-01,  3.14471938e-01,\n",
       "        2.44021912e-01,  1.41686192e+00,  1.41879585e+00, -4.60765103e-02,\n",
       "       -7.82289253e-01,  1.80862980e+00, -1.26372461e-01, -2.06969873e-02,\n",
       "        3.35024120e-01, -6.21028456e-01,  6.66497372e-01,  1.18030561e+00,\n",
       "       -1.63550051e+00, -1.23710953e+00,  1.89316941e+00,  8.27282404e-01,\n",
       "        7.71401559e-02, -1.08085773e+00, -9.39943673e-01, -8.48599531e-01,\n",
       "        2.36212451e+00,  7.78404004e-01,  6.38102651e-01,  1.43751855e+00,\n",
       "       -2.04748391e+00,  1.02093981e+00, -7.28884105e-02, -1.63652473e+00,\n",
       "        1.63048655e+00, -3.21631682e-01, -2.14479520e+00,  8.56839623e-01,\n",
       "        2.30840332e+00, -1.56761386e+00,  1.25308799e+00,  3.01845949e-01,\n",
       "       -1.66428519e+00, -5.26322313e-01,  5.11843549e-01, -1.84215639e-01,\n",
       "       -5.42824526e-01,  1.14771476e+00, -4.18109038e-01,  1.42102704e+00,\n",
       "        1.74574392e+00, -7.29576461e-01,  7.16889079e-01,  3.46113055e-01,\n",
       "       -3.02926249e-01,  9.44922182e-01, -6.18557969e-01,  1.31055256e-01,\n",
       "       -4.48423252e-01,  1.20825025e+00, -4.80069047e-01, -3.01337466e-01,\n",
       "       -1.14671614e+00, -3.96499299e-01,  4.57922402e-01,  5.08627021e-01,\n",
       "        1.39971307e+00,  2.23302923e-01,  5.54402466e-01, -1.24676264e+00,\n",
       "        3.11551809e+00, -9.07010000e-01,  2.15637300e-01,  2.57205381e-02,\n",
       "       -6.81938383e-01, -6.74325961e-01,  5.90657982e-01, -1.45195028e+00,\n",
       "        9.49236222e-01,  1.13482446e+00, -1.62989381e+00,  8.46551569e-01,\n",
       "       -3.19149241e+00, -7.34432958e-01, -2.91235611e-01, -1.30678792e-01,\n",
       "        1.63002363e+00, -1.19658855e+00,  1.95072213e+00,  2.14611339e-01,\n",
       "       -1.96463184e+00,  5.37304549e-01, -2.87885513e-01, -4.69641942e-01,\n",
       "        8.89863721e-01,  9.92456088e-01,  1.24229734e+00, -1.17128767e+00,\n",
       "        1.30722679e-01, -1.17998847e-01, -1.85838521e+00, -9.34913012e-01,\n",
       "       -4.09123460e-01, -6.67187873e-01,  2.80047434e+00, -5.25427370e-01,\n",
       "        2.76382657e-01,  8.86577712e-01, -7.09074154e-01,  8.10601522e-01,\n",
       "        2.71056047e-01,  1.33047346e+00, -1.95910883e-01, -3.32774022e-03,\n",
       "        5.89108676e-01, -2.41662667e+00,  6.91401097e-01,  8.78514171e-01,\n",
       "       -6.59559816e-01,  9.85895916e-01, -7.51167534e-01,  7.04838201e-01,\n",
       "       -4.39995478e-01, -1.45263724e-02, -2.50681117e-01,  8.17770770e-01,\n",
       "       -1.03624007e+00,  7.54731286e-02, -8.56744600e-01,  2.01621296e+00,\n",
       "        4.11860313e-01, -2.79386755e+00, -5.28777140e-01,  9.54258676e-01,\n",
       "       -2.24587413e-01,  1.33014986e+00,  6.23598905e-01, -1.14805185e-01,\n",
       "        6.98420899e-01,  2.07110026e+00, -1.79141286e-01, -1.52258201e+00,\n",
       "        5.46485840e-01,  8.20600100e-01, -2.93936435e-01,  2.09184008e-01,\n",
       "       -1.44707846e-01,  2.05784077e+00,  5.99482420e-01, -2.08919717e+00,\n",
       "        1.57212751e+00,  9.90158066e-01,  1.00547360e-01,  1.23750913e+00,\n",
       "       -5.03170309e-01,  6.73970200e-01,  1.77200851e+00,  8.13185540e-01,\n",
       "       -1.67591977e+00, -6.36687606e-01, -1.23573156e+00, -1.43660621e+00,\n",
       "        1.10109678e-01, -8.04868509e-01,  7.84314781e-01,  6.66909756e-01,\n",
       "        2.42301850e-01, -7.06094343e-01, -1.01445465e+00, -2.32316326e+00,\n",
       "       -1.89480395e-01,  3.94795766e-01,  4.48765650e-01, -1.14328988e+00,\n",
       "        1.92950150e-01,  4.54942997e-01,  1.73500757e+00,  8.88735966e-01,\n",
       "        2.73548369e-01, -1.81292200e+00, -6.83028942e-01, -5.28317511e-01,\n",
       "       -3.65391538e-01,  1.20756821e-01, -1.48062229e+00, -1.06848508e+00,\n",
       "       -6.86739206e-01, -1.71617731e-01, -7.36055285e-01, -2.24501173e-01,\n",
       "        7.09828060e-01, -1.88641734e+00, -3.18514220e-01,  9.05792366e-01,\n",
       "        2.50991219e-01, -1.31474006e+00, -3.17953711e-01,  7.11120310e-01,\n",
       "       -6.24623036e-01,  1.50519897e+00,  8.57428240e-01, -9.08954660e-01,\n",
       "       -1.86291615e+00,  1.32126059e+00, -1.15864124e+00,  2.19947427e+00,\n",
       "       -5.25585060e-01,  1.89594790e+00, -2.23984320e+00, -2.01175967e+00,\n",
       "        3.48943966e-02,  7.65417208e-01, -2.87232274e-01, -9.02358420e-01,\n",
       "        6.40065721e-01, -3.97557486e-01, -1.10766450e+00, -6.81468840e-01,\n",
       "        8.09460728e-01,  1.56245907e+00, -3.84421533e-01,  9.89860691e-01,\n",
       "        1.08909892e+00, -1.04910035e+00,  1.10504425e+00, -1.05045905e-01,\n",
       "        3.74369445e-01, -1.32355109e+00,  5.81728635e-01, -1.08914324e+00,\n",
       "        1.07440847e+00, -2.60876719e-01, -5.06414352e-01, -5.18731008e-02,\n",
       "        3.19371979e-01,  3.78578861e+00,  1.27663942e+00,  7.47439264e-01,\n",
       "        1.78861134e+00,  3.01707005e-02, -2.12268501e-01, -1.30754060e+00,\n",
       "        1.80054794e+00,  9.82378744e-02,  4.42868527e-01,  2.00248082e+00,\n",
       "        1.69565323e+00,  3.69743919e-01, -1.09291018e+00,  4.79121690e-01,\n",
       "       -3.65846431e-01,  2.01823389e+00, -7.52578431e-01, -1.28682910e-01,\n",
       "        2.11762322e-01,  3.02249083e-01, -2.62986925e-01, -4.42873310e-01])"
      ]
     },
     "execution_count": 10,
     "metadata": {},
     "output_type": "execute_result"
    }
   ],
   "source": [
    "distribution = np.random.normal(size = 500)\n",
    "distribution"
   ]
  },
  {
   "cell_type": "code",
   "execution_count": 12,
   "metadata": {},
   "outputs": [
    {
     "name": "stderr",
     "output_type": "stream",
     "text": [
      "C:\\Users\\Matheus\\.conda\\envs\\machine_learning\\lib\\site-packages\\seaborn\\distributions.py:2619: FutureWarning: `distplot` is a deprecated function and will be removed in a future version. Please adapt your code to use either `displot` (a figure-level function with similar flexibility) or `histplot` (an axes-level function for histograms).\n",
      "  warnings.warn(msg, FutureWarning)\n"
     ]
    },
    {
     "data": {
      "text/plain": [
       "<AxesSubplot:ylabel='Density'>"
      ]
     },
     "execution_count": 12,
     "metadata": {},
     "output_type": "execute_result"
    },
    {
     "data": {
      "image/png": "[encoded data removed]",
      "text/plain": [
       "<Figure size 432x288 with 1 Axes>"
      ]
     },
     "metadata": {
      "needs_background": "light"
     },
     "output_type": "display_data"
    }
   ],
   "source": [
    "import seaborn as sns\n",
    "sns.distplot(distribution)"
   ]
  },
  {
   "cell_type": "code",
   "execution_count": 13,
   "metadata": {},
   "outputs": [],
   "source": [
    "hidden_bias = {\n",
    "  'hidden': tf.Variable(tf.random.normal([hidden_neurons]), name = 'hidden_bias'),\n",
    "  'output': tf.Variable(tf.random.normal([output_neurons]), name = 'output_bias')\n",
    "}"
   ]
  },
  {
   "cell_type": "code",
   "execution_count": 14,
   "metadata": {},
   "outputs": [
    {
     "data": {
      "text/plain": [
       "<tf.Variable 'hidden_bias:0' shape=(3,) dtype=float32, numpy=array([ 1.8802884 ,  0.60696477, -0.0223706 ], dtype=float32)>"
      ]
     },
     "execution_count": 14,
     "metadata": {},
     "output_type": "execute_result"
    }
   ],
   "source": [
    "hidden_bias['hidden']"
   ]
  },
  {
   "cell_type": "code",
   "execution_count": null,
   "metadata": {},
   "outputs": [],
   "source": [
    "hidden_bias['output']"
   ]
  }
 ],
 "metadata": {
  "interpreter": {
   "hash": "2cc2415c7fb41254ebc88198d19a186a1e1f8e9fe05ab2076cb4a223b491bc1c"
  },
  "kernelspec": {
   "display_name": "Python 3.9.7 ('machine_learning')",
   "language": "python",
   "name": "python3"
  },
  "language_info": {
   "codemirror_mode": {
    "name": "ipython",
    "version": 3
   },
   "file_extension": ".py",
   "mimetype": "text/x-python",
   "name": "python",
   "nbconvert_exporter": "python",
   "pygments_lexer": "ipython3",
   "version": "3.9.7"
  },
  "orig_nbformat": 4
 },
 "nbformat": 4,
 "nbformat_minor": 2
}
