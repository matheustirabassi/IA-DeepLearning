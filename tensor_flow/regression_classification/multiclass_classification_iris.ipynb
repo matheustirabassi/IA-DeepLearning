{
 "cells": [
  {
   "cell_type": "markdown",
   "metadata": {},
   "source": [
    "### Utilizando o dataset iris, muito conhecido, será feito o treinamento para prever qual tipo de espécie de flor\n",
    "\n",
    "- Iris Setosa\n",
    "- Iris Versicolour\n",
    "- Iris Virginica\n",
    "\n",
    "### E será selecionada com base em:\n",
    "\n",
    "- largura da sépula em cm.\n",
    "- altura da sépula em cm.\n",
    "- largura da pétala em cm.\n",
    "- altura da pétala em cm.\n"
   ]
  },
  {
   "cell_type": "code",
   "execution_count": null,
   "metadata": {},
   "outputs": [],
   "source": [
    "from sklearn import datasets\n",
    "\n",
    "\n",
    "iris_dataset = datasets.load_iris()\n",
    "x = iris_dataset.data\n",
    "\"\"\" A entrada do dataset \"\"\"\n",
    "\n",
    "x\n"
   ]
  },
  {
   "cell_type": "code",
   "execution_count": null,
   "metadata": {},
   "outputs": [],
   "source": [
    "y = iris_dataset.target\n",
    "\"\"\" A saída do dataset(as espécies de flor) \"\"\"\n",
    "\n",
    "y\n"
   ]
  },
  {
   "cell_type": "code",
   "execution_count": null,
   "metadata": {},
   "outputs": [],
   "source": [
    "from sklearn.preprocessing import StandardScaler\n",
    "\n",
    "scaler_x = StandardScaler()\n",
    "x = scaler_x.fit_transform(x)\n",
    "\"\"\" o array de entrada escalonado \"\"\"\n",
    "\n",
    "x\n"
   ]
  },
  {
   "cell_type": "code",
   "execution_count": null,
   "metadata": {},
   "outputs": [],
   "source": [
    "from sklearn.preprocessing import OneHotEncoder\n",
    "\n",
    "one_hot_encoder = OneHotEncoder()\n",
    "\n",
    "y.shape\n"
   ]
  },
  {
   "cell_type": "code",
   "execution_count": null,
   "metadata": {},
   "outputs": [],
   "source": [
    "y = y.reshape(-1, 1)\n",
    "\"\"\" a matriz de resposta  \"\"\"\n",
    "y.shape\n"
   ]
  },
  {
   "cell_type": "code",
   "execution_count": null,
   "metadata": {},
   "outputs": [],
   "source": [
    "y = one_hot_encoder.fit_transform(y).toarray()\n",
    "\n",
    "y\n"
   ]
  },
  {
   "cell_type": "code",
   "execution_count": null,
   "metadata": {},
   "outputs": [],
   "source": [
    "from sklearn.model_selection import train_test_split\n",
    "\n",
    "x_train, x_test, y_train, y_test = train_test_split(\n",
    "    x, y, test_size=0.3, random_state=42)\n"
   ]
  },
  {
   "cell_type": "code",
   "execution_count": null,
   "metadata": {},
   "outputs": [],
   "source": [
    "x_train.shape\n"
   ]
  },
  {
   "cell_type": "code",
   "execution_count": null,
   "metadata": {},
   "outputs": [],
   "source": [
    "x_test.shape\n"
   ]
  },
  {
   "cell_type": "code",
   "execution_count": null,
   "metadata": {},
   "outputs": [],
   "source": []
  },
  {
   "cell_type": "code",
   "execution_count": null,
   "metadata": {},
   "outputs": [],
   "source": [
    "input_neurons = x.shape[1]\n",
    "\"\"\" os neurônios de entrada(4), (largura e altura da sépala e da pétala) \"\"\"\n",
    "\n",
    "input_neurons\n"
   ]
  },
  {
   "cell_type": "code",
   "execution_count": null,
   "metadata": {},
   "outputs": [],
   "source": [
    "import numpy as np\n",
    "\n",
    "ouput_hidden_neurons = int(np.ceil((x.shape[1] + y.shape[1])/2))\n",
    "\n",
    "ouput_hidden_neurons\n"
   ]
  },
  {
   "cell_type": "code",
   "execution_count": null,
   "metadata": {},
   "outputs": [],
   "source": [
    "output_neurons = y.shape[1]\n",
    "\"\"\" As três classes de saída, Iris Setosa, Iris Versicolour e Iris Virginica \"\"\"\n"
   ]
  },
  {
   "cell_type": "code",
   "execution_count": null,
   "metadata": {},
   "outputs": [],
   "source": [
    "import tensorflow as tf\n",
    "\n",
    "weights = {\n",
    "    'hidden': tf.Variable(tf.random.normal([input_neurons, ouput_hidden_neurons]), name='hidden_weights'),\n",
    "    'output': tf.Variable(tf.random.normal([ouput_hidden_neurons, output_neurons]), name='output_weights')\n",
    "}\n"
   ]
  },
  {
   "cell_type": "code",
   "execution_count": null,
   "metadata": {},
   "outputs": [],
   "source": [
    "bias = {\n",
    "    'hidden': tf.Variable(tf.random.normal([ouput_hidden_neurons]), name='hidden_bias'),\n",
    "    'output': tf.Variable(tf.random.normal([output_neurons]), name='output_bias')\n",
    "}\n"
   ]
  },
  {
   "cell_type": "code",
   "execution_count": null,
   "metadata": {},
   "outputs": [],
   "source": [
    "x_train = tf.convert_to_tensor(x_train, dtype=tf.float32, name='x_train')\n",
    "y_train = tf.convert_to_tensor(y_train, dtype=tf.float32, name='y_train')\n",
    "x_test = tf.convert_to_tensor(x_test, dtype=tf.float32, name='x_test')\n",
    "y_test = tf.convert_to_tensor(y_test, dtype=tf.float32, name='y_test')\n"
   ]
  },
  {
   "cell_type": "code",
   "execution_count": null,
   "metadata": {},
   "outputs": [],
   "source": [
    "def mlp(x, weights, bias):\n",
    "    hidden_layer = tf.add(tf.matmul(x, weights['hidden']), bias['hidden'])\n",
    "    hidden_layer_activation = tf.nn.relu(hidden_layer)\n",
    "\n",
    "    output_layer = tf.add(\n",
    "        tf.matmul(hidden_layer_activation, weights['output']), bias['output'])\n",
    "\n",
    "    return output_layer\n"
   ]
  },
  {
   "cell_type": "code",
   "execution_count": null,
   "metadata": {},
   "outputs": [],
   "source": [
    "with tf.GradientTape() as tape:\n",
    "    model = mlp(x_train, weights, bias)\n",
    "    loss = tf.nn.softmax_cross_entropy_with_logits(\n",
    "        labels=y_train, logits=model)\n",
    "\n",
    "var_list = [\n",
    "  weights['hidden'], \n",
    "  weights['output'], \n",
    "  bias['hidden'], \n",
    "  bias['output']\n",
    "  ]\n",
    "\n",
    "optimizer = tf.keras.optimizers.Adam(learning_rate=0.0001)\n",
    "\n",
    "gradients = tape.gradient(loss, var_list)\n",
    "\n",
    "optimizer.apply_gradients(zip(gradients, var_list))"
   ]
  },
  {
   "cell_type": "code",
   "execution_count": null,
   "metadata": {},
   "outputs": [],
   "source": [
    "batch_size = 8\n",
    "batch_total = int(len(x_train) / batch_size)\n",
    "\n",
    "dataset = tf.data.Dataset.from_tensor_slices((x_train, y_train)).batch(batch_size)\n",
    "\n",
    "dataset"
   ]
  },
  {
   "cell_type": "code",
   "execution_count": null,
   "metadata": {},
   "outputs": [],
   "source": [
    "for epoch in range(3000):\n",
    "    for x_batch, y_batch in dataset:\n",
    "        standard_error = 0.0\n",
    "        with tf.GradientTape() as tape:\n",
    "            model = mlp(x_batch, weights, bias)\n",
    "            loss = tf.reduce_mean(tf.nn.softmax_cross_entropy_with_logits(\n",
    "                labels=y_batch, logits=model))\n",
    "        gradients = tape.gradient(loss, var_list)\n",
    "        optimizer.apply_gradients(zip(gradients, var_list))\n",
    "        standard_error += loss.numpy()\n",
    "    if epoch % 50 == 0:\n",
    "        print('Época: ' + str((epoch)) + ' erro: ' + str(standard_error))\n"
   ]
  },
  {
   "cell_type": "code",
   "execution_count": null,
   "metadata": {},
   "outputs": [],
   "source": [
    "from sklearn.metrics import accuracy_score\n",
    "\n",
    "predict_test = mlp(x_test, weights, bias)\n",
    "predict_test = tf.nn.softmax(predict_test)\n",
    "predict_test = tf.argmax(predict_test, axis=1).numpy()\n",
    "print(accuracy_score(tf.argmax(y_test, axis=1).numpy(), predict_test))\n"
   ]
  }
 ],
 "metadata": {
  "interpreter": {
   "hash": "33864d8af44bb8c3fae3c38a29c46f4c2d82917774125392c2932c26d3a97f97"
  },
  "kernelspec": {
   "display_name": "Python 3.9.7 ('machine_learning')",
   "language": "python",
   "name": "python3"
  },
  "language_info": {
   "codemirror_mode": {
    "name": "ipython",
    "version": 3
   },
   "file_extension": ".py",
   "mimetype": "text/x-python",
   "name": "python",
   "nbconvert_exporter": "python",
   "pygments_lexer": "ipython3",
   "version": "3.9.7"
  },
  "orig_nbformat": 4
 },
 "nbformat": 4,
 "nbformat_minor": 2
}
