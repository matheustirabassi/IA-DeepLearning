{
 "cells": [
  {
   "cell_type": "markdown",
   "metadata": {},
   "source": [
    "importa tensorflow"
   ]
  },
  {
   "cell_type": "code",
   "execution_count": 1,
   "metadata": {},
   "outputs": [],
   "source": [
    "import tensorflow as tf"
   ]
  },
  {
   "cell_type": "code",
   "execution_count": 4,
   "metadata": {},
   "outputs": [],
   "source": [
    "matrix_a = tf.constant([[-1.0, 7.0, 5.0]], name = 'inputs')\n",
    "matrix_b = tf.constant([[0.8, 0.1, 0]], name = 'weights')"
   ]
  },
  {
   "cell_type": "code",
   "execution_count": 8,
   "metadata": {},
   "outputs": [
    {
     "name": "stdout",
     "output_type": "stream",
     "text": [
      "tf.Tensor([[-0.8  0.7  0. ]], shape=(1, 3), dtype=float32)\n",
      "tf.Tensor(-0.100000024, shape=(), dtype=float32)\n"
     ]
    }
   ],
   "source": [
    "result = tf.multiply(matrix_a, matrix_b)\n",
    "sum = tf.reduce_sum(result)\n",
    "print(result)\n",
    "print(sum)"
   ]
  }
 ],
 "metadata": {
  "interpreter": {
   "hash": "2cc2415c7fb41254ebc88198d19a186a1e1f8e9fe05ab2076cb4a223b491bc1c"
  },
  "kernelspec": {
   "display_name": "Python 3.9.7 ('machine_learning')",
   "language": "python",
   "name": "python3"
  },
  "language_info": {
   "codemirror_mode": {
    "name": "ipython",
    "version": 3
   },
   "file_extension": ".py",
   "mimetype": "text/x-python",
   "name": "python",
   "nbconvert_exporter": "python",
   "pygments_lexer": "ipython3",
   "version": "3.9.7"
  },
  "orig_nbformat": 4
 },
 "nbformat": 4,
 "nbformat_minor": 2
}
