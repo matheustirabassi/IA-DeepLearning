{
 "cells": [
  {
   "cell_type": "code",
   "execution_count": 9,
   "metadata": {},
   "outputs": [],
   "source": [
    "import tensorflow as tf"
   ]
  },
  {
   "cell_type": "code",
   "execution_count": 10,
   "metadata": {},
   "outputs": [],
   "source": [
    "constant_0 = tf.constant([[1, 2], [3, 4]])\n",
    "constant_1 = tf.constant([[-1, 3], [4, 2]])"
   ]
  },
  {
   "cell_type": "code",
   "execution_count": 11,
   "metadata": {},
   "outputs": [
    {
     "name": "stdout",
     "output_type": "stream",
     "text": [
      "tf.Tensor(\n",
      "[[ 7  7]\n",
      " [13 17]], shape=(2, 2), dtype=int32)\n"
     ]
    },
    {
     "data": {
      "text/plain": [
       "tensorflow.python.framework.ops.EagerTensor"
      ]
     },
     "execution_count": 11,
     "metadata": {},
     "output_type": "execute_result"
    }
   ],
   "source": [
    "result_multiplicate_0 = tf.matmul(constant_0, constant_1)\n",
    "print(result_multiplicate_0)\n",
    "type(result_multiplicate_0)"
   ]
  },
  {
   "cell_type": "code",
   "execution_count": 12,
   "metadata": {},
   "outputs": [
    {
     "name": "stdout",
     "output_type": "stream",
     "text": [
      "tf.Tensor(\n",
      "[[ 8 10]\n",
      " [10 16]], shape=(2, 2), dtype=int32)\n"
     ]
    }
   ],
   "source": [
    "result_multiplicate_1 = tf.matmul(constant_0, constant_1)\n",
    "print(result_multiplicate_1)"
   ]
  },
  {
   "cell_type": "code",
   "execution_count": 13,
   "metadata": {},
   "outputs": [
    {
     "name": "stdout",
     "output_type": "stream",
     "text": [
      "tf.Tensor(\n",
      "[[-4  4 18]\n",
      " [-2  0  4]\n",
      " [-9 -2 13]], shape=(3, 3), dtype=int32)\n"
     ]
    }
   ],
   "source": [
    "constant_matrix_2 = tf.constant([[2, 3], [0, 1], [-1, 4]])\n",
    "constant_matrix_3 = tf.constant([[1, 2, 3], [-2, 0 ,4]])\n",
    "result_multiplicate_1 = tf.matmul(constant_matrix_2, constant_matrix_3)\n",
    "print(result_multiplicate_1)"
   ]
  }
 ],
 "metadata": {
  "interpreter": {
   "hash": "2cc2415c7fb41254ebc88198d19a186a1e1f8e9fe05ab2076cb4a223b491bc1c"
  },
  "kernelspec": {
   "display_name": "Python 3.9.7 ('machine_learning')",
   "language": "python",
   "name": "python3"
  },
  "language_info": {
   "codemirror_mode": {
    "name": "ipython",
    "version": 3
   },
   "file_extension": ".py",
   "mimetype": "text/x-python",
   "name": "python",
   "nbconvert_exporter": "python",
   "pygments_lexer": "ipython3",
   "version": "3.9.7"
  },
  "orig_nbformat": 4
 },
 "nbformat": 4,
 "nbformat_minor": 2
}
