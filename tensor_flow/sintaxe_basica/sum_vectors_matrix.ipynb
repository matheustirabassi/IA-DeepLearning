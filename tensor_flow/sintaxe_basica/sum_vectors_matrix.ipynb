{
 "cells": [
  {
   "cell_type": "code",
   "execution_count": 1,
   "metadata": {},
   "outputs": [],
   "source": [
    "import tensorflow as tf"
   ]
  },
  {
   "cell_type": "code",
   "execution_count": 7,
   "metadata": {},
   "outputs": [
    {
     "name": "stdout",
     "output_type": "stream",
     "text": [
      "tf.Tensor([10 10 10], shape=(3,), dtype=int32)\n"
     ]
    }
   ],
   "source": [
    "constant_a = tf.constant([9, 8, 7], name = 'a')\n",
    "constant_b = tf.constant([1, 2, 3], name = 'b')\n",
    "print(constant_a + constant_b)"
   ]
  },
  {
   "cell_type": "code",
   "execution_count": 8,
   "metadata": {},
   "outputs": [
    {
     "name": "stdout",
     "output_type": "stream",
     "text": [
      "tf.Tensor(\n",
      "[[1 2 3]\n",
      " [4 5 6]\n",
      " [7 8 9]], shape=(3, 3), dtype=int32)\n"
     ]
    },
    {
     "data": {
      "text/plain": [
       "tensorflow.python.framework.ops.EagerTensor"
      ]
     },
     "execution_count": 8,
     "metadata": {},
     "output_type": "execute_result"
    }
   ],
   "source": [
    "matrix_1 = tf.constant([[1, 2, 3], [4, 5, 6], [7, 8, 9]], name = 'matrix_1')\n",
    "print(matrix_1)\n",
    "type(matrix_1)"
   ]
  },
  {
   "cell_type": "code",
   "execution_count": 10,
   "metadata": {},
   "outputs": [
    {
     "name": "stdout",
     "output_type": "stream",
     "text": [
      "tf.Tensor(\n",
      "[[ 2  4  6]\n",
      " [ 8 10 12]\n",
      " [14 16 18]], shape=(3, 3), dtype=int32)\n"
     ]
    }
   ],
   "source": [
    "matrix_2 = tf.constant([[1, 2, 3], [4, 5, 6], [7, 8, 9]], name = 'matrix_1')\n",
    "sum_1 = tf.add(matrix_1, matrix_2)\n",
    "print(sum_1)"
   ]
  },
  {
   "cell_type": "code",
   "execution_count": 11,
   "metadata": {},
   "outputs": [
    {
     "name": "stdout",
     "output_type": "stream",
     "text": [
      "tf.Tensor(\n",
      "[[2 3 4]\n",
      " [6 7 8]], shape=(2, 3), dtype=int32)\n"
     ]
    }
   ],
   "source": [
    "matrix_3 = tf.constant([[1, 2, 3], [4, 5, 6]])\n",
    "matrix_4 = tf.constant([[1], [2]])\n",
    "matrix_result = tf.add(matrix_3, matrix_4)\n",
    "print(matrix_result)"
   ]
  }
 ],
 "metadata": {
  "interpreter": {
   "hash": "2cc2415c7fb41254ebc88198d19a186a1e1f8e9fe05ab2076cb4a223b491bc1c"
  },
  "kernelspec": {
   "display_name": "Python 3.9.7 ('machine_learning')",
   "language": "python",
   "name": "python3"
  },
  "language_info": {
   "codemirror_mode": {
    "name": "ipython",
    "version": 3
   },
   "file_extension": ".py",
   "mimetype": "text/x-python",
   "name": "python",
   "nbconvert_exporter": "python",
   "pygments_lexer": "ipython3",
   "version": "3.9.7"
  },
  "orig_nbformat": 4
 },
 "nbformat": 4,
 "nbformat_minor": 2
}
