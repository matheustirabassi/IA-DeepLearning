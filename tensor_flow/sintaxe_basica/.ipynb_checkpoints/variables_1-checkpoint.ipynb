{
 "cells": [
  {
   "cell_type": "code",
   "execution_count": 2,
   "id": "44506823",
   "metadata": {},
   "outputs": [],
   "source": [
    "x = 35\n",
    "y = x + 35"
   ]
  },
  {
   "cell_type": "code",
   "execution_count": 3,
   "id": "7dce706a",
   "metadata": {},
   "outputs": [
    {
     "name": "stdout",
     "output_type": "stream",
     "text": [
      "70\n"
     ]
    }
   ],
   "source": [
    "print(y)"
   ]
  },
  {
   "cell_type": "code",
   "execution_count": 4,
   "id": "e80607c8",
   "metadata": {},
   "outputs": [],
   "source": [
    "import tensorflow as tf"
   ]
  },
  {
   "cell_type": "code",
   "execution_count": 6,
   "id": "ff058c35",
   "metadata": {},
   "outputs": [
    {
     "name": "stdout",
     "output_type": "stream",
     "text": [
      "tf.Tensor(15, shape=(), dtype=int32)\n"
     ]
    }
   ],
   "source": [
    "value_1 = tf.constant(15, name = 'value_1')\n",
    "print(value_1)"
   ]
  },
  {
   "cell_type": "code",
   "execution_count": 8,
   "id": "4f98419a",
   "metadata": {},
   "outputs": [],
   "source": [
    "sum = tf.Variable(value_1 + 5, name = 'sum')"
   ]
  },
  {
   "cell_type": "code",
   "execution_count": 10,
   "id": "a1b40e2f",
   "metadata": {},
   "outputs": [
    {
     "name": "stdout",
     "output_type": "stream",
     "text": [
      "<bound method BaseResourceVariable.numpy of <tf.Variable 'sum:0' shape=() dtype=int32, numpy=20>>\n"
     ]
    },
    {
     "data": {
      "text/plain": [
       "tensorflow.python.ops.resource_variable_ops.ResourceVariable"
      ]
     },
     "execution_count": 10,
     "metadata": {},
     "output_type": "execute_result"
    }
   ],
   "source": [
    "print(sum)\n",
    "type(sum)"
   ]
  },
  {
   "cell_type": "code",
   "execution_count": null,
   "id": "12329e7d",
   "metadata": {},
   "outputs": [],
   "source": []
  }
 ],
 "metadata": {
  "kernelspec": {
   "display_name": "Python 3 (ipykernel)",
   "language": "python",
   "name": "python3"
  },
  "language_info": {
   "codemirror_mode": {
    "name": "ipython",
    "version": 3
   },
   "file_extension": ".py",
   "mimetype": "text/x-python",
   "name": "python",
   "nbconvert_exporter": "python",
   "pygments_lexer": "ipython3",
   "version": "3.9.7"
  }
 },
 "nbformat": 4,
 "nbformat_minor": 5
}
