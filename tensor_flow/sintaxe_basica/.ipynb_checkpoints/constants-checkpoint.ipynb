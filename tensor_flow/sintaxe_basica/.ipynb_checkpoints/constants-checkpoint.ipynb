{
 "cells": [
  {
   "cell_type": "code",
   "execution_count": 1,
   "id": "35105002",
   "metadata": {},
   "outputs": [],
   "source": [
    "import tensorflow as tf"
   ]
  },
  {
   "cell_type": "code",
   "execution_count": 2,
   "id": "0513074f",
   "metadata": {},
   "outputs": [],
   "source": [
    "value_1 = tf.constant(2)\n",
    "value_2 = tf.constant(3)"
   ]
  },
  {
   "cell_type": "code",
   "execution_count": 3,
   "id": "69715c1f",
   "metadata": {},
   "outputs": [
    {
     "data": {
      "text/plain": [
       "tensorflow.python.framework.ops.EagerTensor"
      ]
     },
     "execution_count": 3,
     "metadata": {},
     "output_type": "execute_result"
    }
   ],
   "source": [
    "type(value_1)"
   ]
  },
  {
   "cell_type": "code",
   "execution_count": 4,
   "id": "993515ac",
   "metadata": {},
   "outputs": [
    {
     "name": "stdout",
     "output_type": "stream",
     "text": [
      "tf.Tensor(2, shape=(), dtype=int32)\n"
     ]
    }
   ],
   "source": [
    "print(value_1)"
   ]
  },
  {
   "cell_type": "code",
   "execution_count": 5,
   "id": "5c00d4d9",
   "metadata": {},
   "outputs": [
    {
     "data": {
      "text/plain": [
       "tensorflow.python.framework.ops.EagerTensor"
      ]
     },
     "execution_count": 5,
     "metadata": {},
     "output_type": "execute_result"
    }
   ],
   "source": [
    "sum = value_1 + value_2\n",
    "type(sum)"
   ]
  },
  {
   "cell_type": "code",
   "execution_count": 10,
   "id": "410bbc44",
   "metadata": {},
   "outputs": [
    {
     "name": "stdout",
     "output_type": "stream",
     "text": [
      "tf.Tensor(5, shape=(), dtype=int32)\n"
     ]
    }
   ],
   "source": [
    "print(sum)"
   ]
  },
  {
   "cell_type": "code",
   "execution_count": 11,
   "id": "802a7fb5",
   "metadata": {},
   "outputs": [],
   "source": [
    "text_1 = tf.constant('Text 1 ')\n",
    "text_2 = tf.constant('Text 2')"
   ]
  },
  {
   "cell_type": "code",
   "execution_count": 12,
   "id": "fdb9d062",
   "metadata": {},
   "outputs": [
    {
     "data": {
      "text/plain": [
       "tensorflow.python.framework.ops.EagerTensor"
      ]
     },
     "execution_count": 12,
     "metadata": {},
     "output_type": "execute_result"
    }
   ],
   "source": [
    "type(text_1)"
   ]
  },
  {
   "cell_type": "code",
   "execution_count": 14,
   "id": "af461215",
   "metadata": {},
   "outputs": [
    {
     "name": "stdout",
     "output_type": "stream",
     "text": [
      "tf.Tensor(b'Text 1Text 2', shape=(), dtype=string)\n"
     ]
    }
   ],
   "source": [
    "print(text_1 + text_2)"
   ]
  },
  {
   "cell_type": "code",
   "execution_count": null,
   "id": "906e782d",
   "metadata": {},
   "outputs": [],
   "source": []
  }
 ],
 "metadata": {
  "kernelspec": {
   "display_name": "Python 3 (ipykernel)",
   "language": "python",
   "name": "python3"
  },
  "language_info": {
   "codemirror_mode": {
    "name": "ipython",
    "version": 3
   },
   "file_extension": ".py",
   "mimetype": "text/x-python",
   "name": "python",
   "nbconvert_exporter": "python",
   "pygments_lexer": "ipython3",
   "version": "3.9.7"
  }
 },
 "nbformat": 4,
 "nbformat_minor": 5
}
